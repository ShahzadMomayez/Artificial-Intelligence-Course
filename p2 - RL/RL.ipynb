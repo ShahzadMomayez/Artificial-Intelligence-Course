{
 "cells": [
  {
   "cell_type": "markdown",
   "metadata": {},
   "source": [
    "\n",
    "<html>\n",
    "<div style=\"text-align: center\">  \n",
    "  <img src=\"https://encrypted-tbn0.gstatic.com/images?q=tbn:ANd9GcRQNHiZVrHwvzG2HDN1r2HVWULoIU80_zOnXg&usqp=CAU\" width=260px style=\"padding:10px; text-align: left;\"/> </div>\n",
    "\n",
    "\n",
    "    \n",
    "    \n",
    "\n",
    "<div style=\"background-image: linear-gradient(to left, rgb(255, 255, 255), rgb( 170, 141, 220 )); width: auto; text-align: center; height: 40px; margin: 10px;\">\n",
    "<h1 style=\"font-family: Georgia; color: black;\">AI - Project2: Reinforcement Learning</h1>\n",
    "</div>\n",
    "\n",
    "<div style=\" background-image: linear-gradient(to left, rgb(255, 255, 255), rgb( 219, 204, 245  )); width: 400px; height: 30px; margin: 10px; text-alighn:middle\">\n",
    "  <span style=\"font-family: Georgia; font-size:15pt; color: black ; vertical-align: left;\">Shahzad Momayez </span>\n",
    "    \n",
    "</div>\n",
    "    \n",
    "<div style=\" background-image: linear-gradient(to left, rgb(255, 255, 255), rgb( 219, 204, 245  )); width: 400px; height: 30px; margin:10px 10px; text-alighn:middle\">\n",
    "  <span style=\"font-family: Georgia; font-size:12pt; color:black ; vertical-align: left;\">Student Id: 810100272</span>\n",
    "    \n",
    "</div>\n",
    "</html>\n"
   ]
  },
  {
   "cell_type": "markdown",
   "metadata": {},
   "source": [
    "# GOAL:\n",
    "    the goal of this project is to use RL in some problems. using VI, PI , q-learning algorithm.\n",
    " # Purpose :\n",
    " Frozen Lake Theme: It consists of crossing a frozen lake from start house to house without falling into any holes by moving on the lake. The perimeter of the lake is a 4x4 table. At any time, the agent can choose one of the four left (0), down (1), right (2) and up (3) movements. Of course, note that in the boundary conditions, if the illegal movement is selected, the agent remains in place. The agent gets a +1 bonus for reaching the target's house and a 0 bonus for falling into a hole or moving through a lake."
   ]
  },
  {
   "cell_type": "markdown",
   "metadata": {
    "id": "d0W-WuYsjWPP"
   },
   "source": [
    "# Artificial Intelligence Course - Fall 1402\n",
    "## Computer Assignment #2 - Reinforcement Learning"
   ]
  },
  {
   "cell_type": "markdown",
   "metadata": {
    "id": "ksnYjMyNPAcn"
   },
   "source": [
    "# Table of Contents\n",
    "\n",
    "- [Part 1: Value Iteration & Policy Iteration Algorithms](#1)\n",
    "    - [َQuestion 1:](#1-0)\n",
    "    - [َQuestion 2:](#1-1)\n",
    "    - [َQuestion 3:](#1-12)\n",
    "    - [َQuestion 4:](#1-2)\n",
    "    - [َQuestion 5:](#1-3)\n",
    "        - [Value Iteration](#1-3-1)\n",
    "        - [Policy Iteration](#1-3-2)\n",
    "    - [َQuestion 6:](#1-4)\n",
    "        - [Value Iteration](#1-4-1)\n",
    "        - [Policy Iteration](#1-4-2)\n",
    "- [Part 2: Q-Learning Algorithm](#2)\n",
    "    - [َQuestion 7:](#2-1)\n",
    "    - [َQuestion 8:](#2-2)\n",
    "    - [َQuestion 9:](#2-3)\n",
    "    - [َQuestion 10:](#2-4)"
   ]
  },
  {
   "cell_type": "code",
   "execution_count": 22,
   "metadata": {
    "id": "dpTWKluXMHP5"
   },
   "outputs": [],
   "source": [
    "# import\n",
    "import numpy as np\n",
    "import gym\n",
    "import matplotlib.pyplot as plt\n",
    "from tabulate import tabulate"
   ]
  },
  {
   "cell_type": "markdown",
   "metadata": {
    "id": "EifP8FUKLXE7"
   },
   "source": [
    "<a name='1'></a>\n",
    "## Part 1: Value Iteration & Policy Iteration Algorithms"
   ]
  },
  {
   "cell_type": "code",
   "execution_count": 23,
   "metadata": {
    "id": "8LizJeOYRMEq"
   },
   "outputs": [],
   "source": [
    "env = gym.make('FrozenLake-v1', desc=None, map_name=\"4x4\", is_slippery=False , render_mode = \"human\" )"
   ]
  },
  {
   "cell_type": "code",
   "execution_count": 24,
   "metadata": {
    "colab": {
     "base_uri": "https://localhost:8080/"
    },
    "id": "YZARu6LDSqj_",
    "outputId": "2f22167b-c6ef-493d-bec3-264a93e5d8cb"
   },
   "outputs": [
    {
     "name": "stdout",
     "output_type": "stream",
     "text": [
      "you can see the environment in each step by render command :\n"
     ]
    }
   ],
   "source": [
    "# get familiar with the environment\n",
    "print(\"you can see the environment in each step by render command :\")\n",
    "env.reset()\n",
    "env.render()"
   ]
  },
  {
   "cell_type": "code",
   "execution_count": 25,
   "metadata": {
    "colab": {
     "base_uri": "https://localhost:8080/"
    },
    "id": "x5QTTUSrSM-L",
    "outputId": "206e612c-52ca-49d4-91b8-31f9faf5f1bc"
   },
   "outputs": [
    {
     "data": {
      "text/plain": [
       "16"
      ]
     },
     "execution_count": 25,
     "metadata": {},
     "output_type": "execute_result"
    }
   ],
   "source": [
    "# Total no. of states\n",
    "env.observation_space.n"
   ]
  },
  {
   "cell_type": "code",
   "execution_count": 26,
   "metadata": {
    "colab": {
     "base_uri": "https://localhost:8080/"
    },
    "id": "EeaBqUeZSNNY",
    "outputId": "46e8a041-a1e4-4e43-c22a-4e2c1a3a3ddc"
   },
   "outputs": [
    {
     "data": {
      "text/plain": [
       "4"
      ]
     },
     "execution_count": 26,
     "metadata": {},
     "output_type": "execute_result"
    }
   ],
   "source": [
    "# Total no. of actions\n",
    "env.action_space.n"
   ]
  },
  {
   "cell_type": "markdown",
   "metadata": {
    "id": "iVJmGmCUnIGR"
   },
   "source": [
    "<a name='1-0'></a>\n",
    "### Question 1:"
   ]
  },
  {
   "cell_type": "markdown",
   "metadata": {
    "id": "xRDhQMwwnK2s"
   },
   "source": [
    "The Value Iteration algorithm is a dynamic programming algorithm used to solve Markov Decision Processes (MDPs) and determine the optimal policy. It is an iterative algorithm that finds the optimal value function and policy by iteratively updating the estimated values of states until convergence.\n",
    "\n",
    "Here is a high-level overview of the Value Iteration algorithm:\n",
    "\n",
    "- Initialize the value function V(s) for all states s.\n",
    "\n",
    "- Iterate until convergence:\n",
    "\n",
    "- For each state s, calculate the action values Q(s, a) for all possible actions a using the current value function.\n",
    "- Update the value function for the state as V(s) = max(Q(s, a)) over all possible actions a.\n",
    "- Once the iterations converge (i.e., the change in value function becomes small), the optimal value function V*(s) is obtained.\n",
    "\n",
    "- Compute the optimal policy by selecting the action a with the highest action value Q(s, a) for each state s.\n",
    "\n",
    "- The algorithm repeats steps 2 and 3 until the values converge to their optimal values. It ensures that the value function converges to the maximum achievable value for each state, and the corresponding policy is the optimal policy.\n",
    "\n",
    "- The key idea behind Value Iteration is the Bellman's optimality equation, which states that the value of a state is equal to the maximum expected immediate reward plus the discounted value of the next state. By iteratively applying this equation, the algorithm progressively refines the value function until it converges to the optimal values.\n",
    "\n",
    "The optimal policy is derived from the optimal value function by selecting the action that maximizes the action value for each state. Once the iterations converge, the resulting action choices for each state form the optimal policy.\n",
    "\n",
    "\n",
    "bellman:\n",
    "$${ V(s) = \\max_a \\sum_{s'} T(s, a, s')[R(s, a, s') + \\gamma V(s')] }$$\n"
   ]
  },
  {
   "cell_type": "markdown",
   "metadata": {
    "id": "MO24LtBGLXZ7"
   },
   "source": [
    "<a name='1-1'></a>\n",
    "### Question 2:"
   ]
  },
  {
   "cell_type": "code",
   "execution_count": 27,
   "metadata": {
    "id": "VKP8LjK5jGoW"
   },
   "outputs": [],
   "source": [
    "class ValueIteration():\n",
    "    def __init__(self, env, discount_factor, theta=1e-8):\n",
    "        self.env = env\n",
    "        self.discount_factor = discount_factor\n",
    "        self.theta = theta\n",
    "        self.reset()\n",
    "        self.state_values = np.ones((self.env.observation_space.n)) / self.env.action_space.n\n",
    "        self.q_values = np.ones((self.env.observation_space.n, self.env.action_space.n)) / self.env.action_space.n\n",
    "        self.state_values[self.env.observation_space.n - 1] = 0\n",
    "        self.q_values[self.env.observation_space.n - 1] = np.zeros((self.env.action_space.n))\n",
    "        self.step=0\n",
    "    def value_estimation(self):\n",
    "        self.delta = np.inf\n",
    "\n",
    "        while(self.delta > self.theta):\n",
    "            self.step+=1\n",
    "            self.delta = 0\n",
    "\n",
    "            for state in range(self.env.observation_space.n):\n",
    "\n",
    "                v = self.state_values[state]\n",
    "\n",
    "                for action in range(self.env.action_space.n):\n",
    "                    action_value = 0\n",
    "                    for probability, next_state, reward, done in self.env.P[state][action]:\n",
    "                        ### START CODE HERE ###\n",
    "                         action_value += probability * (reward + self.discount_factor * self.state_values[next_state])\n",
    "                        ### END CODE HERE ###\n",
    "                    self.q_values[state, action] = action_value\n",
    "\n",
    "                self.state_values[state] = np.max(self.q_values[state,:])\n",
    "\n",
    "                self.delta = np.max([self.delta, abs(v - self.state_values[state])])\n",
    "\n",
    "#                 if (self.delta < self.theta):\n",
    "#                     break\n",
    "\n",
    "    def take_action(self, action):\n",
    "        next_state, reward, done , x , y = self.env.step(action)\n",
    "        return (next_state, reward, done)\n",
    "\n",
    "    def get_optimal_policy(self, state):\n",
    "        return np.argmax(self.q_values[state,:])\n",
    "\n",
    "    def get_state_values(self):\n",
    "        return self.state_values\n",
    "\n",
    "    def get_q_values(self):\n",
    "        return self.q_values\n",
    "    \n",
    "    def get_step(self):\n",
    "        return self.step\n",
    "\n",
    "    def reset(self):\n",
    "        initial_state , _ = self.env.reset()\n",
    "        return initial_state"
   ]
  },
  {
   "cell_type": "markdown",
   "metadata": {
    "id": "frjc5mR4ncm1"
   },
   "source": [
    "<a name='1-12'></a>\n",
    "### Question 3:"
   ]
  },
  {
   "cell_type": "markdown",
   "metadata": {
    "id": "AMJJpf1tnddF"
   },
   "source": [
    "\n",
    "\n",
    "\n",
    "\n",
    "The Policy Iteration algorithm is another dynamic programming algorithm used to solve Markov Decision Processes (MDPs) and determine the optimal policy. It alternates between the policy evaluation step and the policy improvement step until the optimal policy is obtained.\n",
    "\n",
    "Here is an overview of the Policy Iteration algorithm:\n",
    "\n",
    "Initialize an arbitrary policy π(s) for all states s.\n",
    "\n",
    "Repeat until convergence:\n",
    "a. Policy Evaluation:\n",
    "\n",
    "Solve the Bellman's equation to estimate the value function Vπ(s) for the current policy. b. Policy Improvement:\n",
    "Update the policy by selecting the action that maximizes the expected value over all possible actions a in each state s:\n",
    "\n",
    " $${π'(s) = argmax[Σp(s' | s, a)[r(s, a, s') + γVπ(s')]] }$$\n",
    " \n",
    " \n",
    "If the policy π'(s) remains the same as the previous policy, stop the iteration.\n",
    "Once the iterations converge, the resulting policy π(s) is the optimal policy.\n",
    "\n",
    "The policy evaluation step calculates the value function Vπ(s) for the given policy, which represents the expected discounted cumulative rewards by following that policy. It iteratively updates the value function until it reaches convergence.\n",
    "\n",
    "The policy improvement step updates the policy by selecting the action that maximizes the expected value over all possible actions in each state. It looks for actions that potentially yield higher values than the actions prescribed by the current policy.\n",
    "\n",
    "The iteration continues between policy evaluation and policy improvement until the policy no longer changes. At this point, the value function and the policy have converged to their optimal values, and the resulting policy is the optimal policy.\n",
    "\n",
    "The formula for policy improvement in the Policy Iteration algorithm is:\n",
    "\n",
    " $${ π'(s) = argmax[Σp(s' | s, a)[r(s, a, s') + γVπ(s')]] }$$\n",
    "\n",
    "In this formula, π'(s) represents the updated policy for state s, p(s' | s, a) denotes the transition probability from state s to s' given action a, r(s, a, s') is the immediate reward obtained upon transitioning to state s' from state s with action a, γ is the discount factor, and Vπ(s') stands for the value of state s' under the current policy.\n",
    "\n",
    "By iteratively improving the policy and evaluating its value, the Policy Iteration algorithm ultimately finds the optimal policy for the given MDP.\n",
    "\n",
    "$${ V(s) = \\sum_{a} \\pi(s, a) \\sum_{s'} T(s, a, s') \\left[ R(s, a, s') + \\gamma V(s') \\right] }$$"
   ]
  },
  {
   "cell_type": "markdown",
   "metadata": {
    "id": "V4DcH5yJLXqH"
   },
   "source": [
    "<a name='1-2'></a>\n",
    "### Question 4:"
   ]
  },
  {
   "cell_type": "code",
   "execution_count": 28,
   "metadata": {
    "executionInfo": {
     "elapsed": 14,
     "status": "ok",
     "timestamp": 1698433256083,
     "user": {
      "displayName": "Mohammad Saadati",
      "userId": "00242434153251678664"
     },
     "user_tz": -210
    },
    "id": "XjSb1lX147hd"
   },
   "outputs": [],
   "source": [
    "class PolicyIteration():\n",
    "    def __init__(self, env, discount_factor, theta=1e-8):\n",
    "        self.env = env\n",
    "        self.discount_factor = discount_factor\n",
    "        self.theta = theta\n",
    "        self.reset()\n",
    "        self.state_values = np.ones((self.env.observation_space.n)) / self.env.action_space.n\n",
    "        self.q_values = np.ones((self.env.observation_space.n, self.env.action_space.n)) / self.env.action_space.n\n",
    "        self.state_values[self.env.observation_space.n - 1] = 0\n",
    "        self.q_values[self.env.observation_space.n - 1] = np.zeros((self.env.action_space.n))\n",
    "        self.policy = np.random.randint(self.env.action_space.n, size=self.env.observation_space.n) # initial policy\n",
    "        self.policy_stable = False\n",
    "        self.step=0\n",
    "    def policy_evaluation(self):\n",
    "        self.delta = np.inf\n",
    "\n",
    "        while(self.delta >= self.theta):\n",
    "\n",
    "            self.delta = 0\n",
    "            self.step+=1\n",
    "            for state in range(self.env.observation_space.n):\n",
    "\n",
    "                v = self.state_values[state]\n",
    "\n",
    "                new_state_value = 0\n",
    "                for probability, next_state, reward, done in self.env.P[state][self.policy[state]]:\n",
    "                    ### START CODE HERE ###\n",
    "                    new_state_value += probability * (reward + self.discount_factor *self.state_values[next_state] )\n",
    "                    ### END CODE HERE ###\n",
    "                self.state_values[state] = new_state_value\n",
    "\n",
    "                self.delta = np.max([self.delta, abs(v - self.state_values[state])])\n",
    "\n",
    "    def policy_improvement(self):\n",
    "        self.policy_stable = True\n",
    "\n",
    "        for state in range(self.env.observation_space.n):\n",
    "            old_policy = self.policy[state]\n",
    "\n",
    "            for action in range(self.env.action_space.n):\n",
    "\n",
    "                action_value = 0\n",
    "                for probability, next_state, reward, done in self.env.P[state][action]:\n",
    "                    ### START CODE HERE ###\n",
    "                    action_value += probability * (reward + self.discount_factor *self.state_values[next_state] )\n",
    "                    ### END CODE HERE ###\n",
    "                self.q_values[state, action] = action_value\n",
    "\n",
    "            self.policy[state] = np.argmax(self.q_values[state,:])\n",
    "\n",
    "            if old_policy != self.policy[state]:\n",
    "                self.policy_stable = False\n",
    "\n",
    "    def policy_estimation(self):\n",
    "        self.policy_stable = False\n",
    "\n",
    "        while not self.policy_stable:\n",
    "            self.policy_evaluation()\n",
    "            self.policy_improvement()\n",
    "\n",
    "    def take_action(self, action):\n",
    "        next_state, reward, done, y  , x= self.env.step(action)\n",
    "        return (next_state, reward, done)\n",
    "\n",
    "    def get_optimal_policy(self, state):\n",
    "        return self.policy[state]\n",
    "\n",
    "    def get_state_values(self):\n",
    "        return self.state_values\n",
    "\n",
    "    def get_q_values(self):\n",
    "        return self.q_values\n",
    "    \n",
    "\n",
    "    def reset(self):\n",
    "        initial_state , _= self.env.reset()\n",
    "        return initial_state\n",
    "    \n",
    "    def get_step(self):\n",
    "        return self.step"
   ]
  },
  {
   "cell_type": "markdown",
   "metadata": {
    "id": "u4G-kVjmLYj4"
   },
   "source": [
    "<a name='1-3'></a>\n",
    "### Question 5:"
   ]
  },
  {
   "cell_type": "markdown",
   "metadata": {
    "id": "PB651-ZY4vjE"
   },
   "source": [
    "<a name='1-3-1'></a>\n",
    "#### Value Iteration:"
   ]
  },
  {
   "cell_type": "code",
   "execution_count": 29,
   "metadata": {
    "id": "RGYLOfYAuKjY"
   },
   "outputs": [
    {
     "data": {
      "image/png": "[encoded data removed]",
      "text/plain": [
       "<Figure size 640x480 with 1 Axes>"
      ]
     },
     "metadata": {},
     "output_type": "display_data"
    },
    {
     "name": "stdout",
     "output_type": "stream",
     "text": [
      "0\n",
      "0\n",
      "\n",
      "4\n",
      "\n",
      "8\n",
      "\n",
      "9\n",
      "\n",
      "13\n",
      "\n",
      "14\n",
      "\n"
     ]
    },
    {
     "data": {
      "image/png": "[encoded data removed]",
      "text/plain": [
       "<Figure size 600x600 with 2 Axes>"
      ]
     },
     "metadata": {},
     "output_type": "display_data"
    }
   ],
   "source": [
    "import matplotlib.pyplot as plt\n",
    "from tabulate import tabulate\n",
    "import time\n",
    "from matplotlib.colors import ListedColormap\n",
    "# Value Iteration\n",
    "cnvrge_steps_vi=np.zeros(6)\n",
    "cnvrge_time_vi=np.zeros(6)\n",
    "for i in range(6):\n",
    "    value_iteration = ValueIteration(env, discount_factor=0.9)\n",
    "    start=time.time()\n",
    "    value_iteration.value_estimation()\n",
    "    end=time.time()\n",
    "    cnvrge_time_vi[i]=round(end-start,4)\n",
    "    cnvrge_steps_vi[i]=value_iteration.get_step()\n",
    "\n",
    "value_iteration = ValueIteration(env, discount_factor=0.9)\n",
    "value_iteration.value_estimation()\n",
    "\n",
    "optimal_policy_vi = np.array([value_iteration.get_optimal_policy(state) for state in range(env.observation_space.n)])\n",
    "policy_grid = optimal_policy_vi.reshape(4, 4)\n",
    "\n",
    "# Define the arrow symbols for visualization\n",
    "\n",
    "arrow_symbols = {0: '←', 1: '↓', 2: '→', 3: '↑'}\n",
    "policy_arrows = [arrow_symbols[action] for action in optimal_policy_vi]\n",
    "\n",
    "# Create a 4x4 grid plot with arrows\n",
    "fig, ax = plt.subplots()\n",
    "ax.matshow(np.zeros((4, 4)), cmap='gray')\n",
    "\n",
    "for i in range(4):\n",
    "    for j in range(4):\n",
    "        ax.text(j, i, policy_arrows[i*4 + j], ha='center', va='center', color='white', fontsize=12)\n",
    "\n",
    "ax.set_title(\"Optimal Policy (of VI\")\n",
    "plt.show()\n",
    "\n",
    "\n",
    "\n",
    "\n",
    "state = value_iteration.reset()\n",
    "print (state)\n",
    "done = False\n",
    "values_vi = np.zeros((env.observation_space.n,))\n",
    "while not done:\n",
    "    print(state)\n",
    "    action = optimal_policy_vi[state]\n",
    "    state, reward, done = value_iteration.take_action(action)\n",
    "    env.render()\n",
    "    print(\"\")\n",
    "    values_vi[state] = reward\n",
    "\n",
    "\n",
    "from matplotlib.colors import LinearSegmentedColormap\n",
    "\n",
    "\n",
    "fig, ax = plt.subplots(1, 1, figsize=(6, 6))\n",
    "\n",
    "# Get the state values from value_iteration\n",
    "state_values_vi = value_iteration.get_state_values()\n",
    "\n",
    "# Create a custom colormap with a smooth transition from green to red\n",
    "cmap = LinearSegmentedColormap.from_list(\n",
    "    name='custom_cmap',\n",
    "    colors=['#8B0000', 'red', 'lightcoral', 'white', 'lightgreen', 'green', '#006400']\n",
    ")\n",
    "\n",
    "# Display the chart with the custom colormap\n",
    "im1 = ax.imshow(state_values_vi.reshape(4, 4), cmap=cmap)\n",
    "\n",
    "# Add text annotations to the plot\n",
    "for i in range(4):\n",
    "    for j in range(4):\n",
    "        text = ax.text(j, i, f'{state_values_vi.reshape(4, 4)[i, j]:.2f}', ha='center', va='center', color='black')\n",
    "\n",
    "\n",
    "# im1 = ax[0].imshow(state_values_vi.reshape(4, 4), cmap='hot')\n",
    "ax.set_title(\"State-Values (Value Iteration)\")\n",
    "ax.set_xticks(np.arange(4))\n",
    "ax.set_yticks(np.arange(4))\n",
    "ax.set_xticklabels(['S', 'F', 'F', 'F'])\n",
    "ax.set_yticklabels(['S', 'F', 'F', 'G'])\n",
    "ax.set_xlabel(\"Column\")\n",
    "ax.set_ylabel(\"Row\")\n",
    "\n",
    "plt.colorbar(im1, ax=ax, label=\"Value\")\n",
    "\n",
    "plt.tight_layout()\n",
    "plt.show()"
   ]
  },
  {
   "cell_type": "markdown",
   "metadata": {
    "id": "ipZlzoXH40Mn"
   },
   "source": [
    "<a name='1-3-2'></a>\n",
    "#### Policy Iteration:"
   ]
  },
  {
   "cell_type": "code",
   "execution_count": 9,
   "metadata": {
    "id": "7Vxf_xKc44QT"
   },
   "outputs": [
    {
     "data": {
      "image/png": "[encoded data removed]",
      "text/plain": [
       "<Figure size 640x480 with 1 Axes>"
      ]
     },
     "metadata": {},
     "output_type": "display_data"
    },
    {
     "name": "stdout",
     "output_type": "stream",
     "text": [
      "0\n",
      "\n",
      "\n",
      "\n",
      "\n",
      "\n",
      "\n"
     ]
    },
    {
     "data": {
      "image/png": "[encoded data removed]",
      "text/plain": [
       "<Figure size 600x600 with 2 Axes>"
      ]
     },
     "metadata": {},
     "output_type": "display_data"
    }
   ],
   "source": [
    "import matplotlib.pyplot as plt\n",
    "from tabulate import tabulate\n",
    "from matplotlib.colors import ListedColormap\n",
    "from matplotlib.colors import LinearSegmentedColormap\n",
    "import time\n",
    "# Policy Iteration\n",
    "env = gym.make('FrozenLake-v1', desc=None, map_name=\"4x4\", is_slippery=False , render_mode = \"human\" )\n",
    "env.reset()\n",
    "env.render()\n",
    "discount_factor = 0.9\n",
    "cnvrge_steps_pi=np.zeros(6)\n",
    "cnvrge_time_pi=np.zeros(6)\n",
    "for i in range(6):\n",
    "    policy_iteration = PolicyIteration(env, discount_factor)\n",
    "    start=time.time()\n",
    "    policy_iteration.policy_estimation()\n",
    "    end=time.time()\n",
    "    cnvrge_time_pi[i]=round(end-start,4)\n",
    "    cnvrge_steps_pi[i]=policy_iteration.get_step()\n",
    "\n",
    "\n",
    "\n",
    "optimal_policy_pi = np.array([policy_iteration.get_optimal_policy(state) for state in range(env.observation_space.n)])\n",
    "policy_grid = optimal_policy_pi.reshape(4, 4)\n",
    "\n",
    "# Define the arrow symbols for visualization\n",
    "\n",
    "arrow_symbols = {0: '←', 1: '↓', 2: '→', 3: '↑'}\n",
    "policy_arrows = [arrow_symbols[action] for action in optimal_policy_vi]\n",
    "\n",
    "# Create a 4x4 grid plot with arrows\n",
    "fig, ax = plt.subplots()\n",
    "ax.matshow(np.zeros((4, 4)), cmap='gray')\n",
    "\n",
    "for i in range(4):\n",
    "    for j in range(4):\n",
    "        ax.text(j, i, policy_arrows[i*4 + j], ha='center', va='center', color='white', fontsize=12)\n",
    "\n",
    "ax.set_title(\"Optimal Policy  of PI\")\n",
    "plt.show()\n",
    "\n",
    "\n",
    "state = policy_iteration.reset()\n",
    "print (state)\n",
    "done = False\n",
    "values_pi = np.zeros((env.observation_space.n,))\n",
    "while not done:\n",
    "    action = optimal_policy_pi[state]\n",
    "    state, reward, done = policy_iteration.take_action(action)\n",
    "    env.render()\n",
    "    print(\"\")\n",
    "    values_pi[state] = reward\n",
    "\n",
    "\n",
    "\n",
    "fig, ax = plt.subplots(1, 1, figsize=(6, 6))\n",
    "\n",
    "# Get the state values from value_iteration\n",
    "state_values_pi = value_iteration.get_state_values()\n",
    "\n",
    "# Create a custom colormap with a smooth transition from green to red\n",
    "cmap = LinearSegmentedColormap.from_list(\n",
    "    name='custom_cmap',\n",
    "    colors=['#8B0000', 'red', 'lightcoral', 'white', 'lightgreen', 'green', '#006400']\n",
    ")\n",
    "\n",
    "# Display the chart with the custom colormap\n",
    "im = ax.imshow(state_values_vi.reshape(4, 4), cmap=cmap)\n",
    "\n",
    "# Add text annotations to the plot\n",
    "for i in range(4):\n",
    "    for j in range(4):\n",
    "        text = ax.text(j, i, f'{state_values_pi.reshape(4, 4)[i, j]:.2f}', ha='center', va='center', color='black')\n",
    "\n",
    "\n",
    "# im1 = ax[0].imshow(state_values_vi.reshape(4, 4), cmap='hot')\n",
    "ax.set_title(\"State-Values (policy Iteration)\")\n",
    "ax.set_xticks(np.arange(4))\n",
    "ax.set_yticks(np.arange(4))\n",
    "ax.set_xticklabels(['S', 'F', 'F', 'F'])\n",
    "ax.set_yticklabels(['S', 'F', 'F', 'G'])\n",
    "ax.set_xlabel(\"Column\")\n",
    "ax.set_ylabel(\"Row\")\n",
    "\n",
    "plt.colorbar(im1, ax=ax, label=\"Value\")\n",
    "\n",
    "plt.tight_layout()\n",
    "plt.show()"
   ]
  },
  {
   "cell_type": "markdown",
   "metadata": {
    "id": "A3fnAFqJLpVI"
   },
   "source": [
    "<a name='1-4'></a>\n",
    "### Question 6:"
   ]
  },
  {
   "cell_type": "markdown",
   "metadata": {
    "id": "7JuoMPH_PAcv"
   },
   "source": [
    "<a name='1-4-1'></a>\n",
    "#### Value Iteration:"
   ]
  },
  {
   "cell_type": "code",
   "execution_count": 10,
   "metadata": {
    "id": "vCBnAicAPAcv"
   },
   "outputs": [
    {
     "name": "stdout",
     "output_type": "stream",
     "text": [
      "steps = [141. 141. 141. 141. 141. 141.] --- time = [0.125  0.1191 0.1247 0.124  0.1332 0.1368] \n"
     ]
    }
   ],
   "source": [
    "print(f\"steps = {cnvrge_steps_vi} --- time = {cnvrge_time_vi} \")\n"
   ]
  },
  {
   "cell_type": "markdown",
   "metadata": {
    "id": "C1BMk-BfPAcv"
   },
   "source": [
    "<a name='1-4-2'></a>\n",
    "#### Policy Iteration:"
   ]
  },
  {
   "cell_type": "code",
   "execution_count": 11,
   "metadata": {
    "id": "LnUZpvLP446n"
   },
   "outputs": [
    {
     "name": "stdout",
     "output_type": "stream",
     "text": [
      "steps = [154. 155. 150. 153. 152. 153.] --- time = [0.062  0.0593 0.0553 0.0621 0.054  0.058 ] \n"
     ]
    }
   ],
   "source": [
    "print(f\"steps = {cnvrge_steps_pi} --- time = {cnvrge_time_pi} \")\n"
   ]
  },
  {
   "cell_type": "markdown",
   "metadata": {},
   "source": [
    "When comparing the convergence speed of the Value Iteration and Policy Iteration algorithms, it's important to consider that they have different convergence behaviors.\n",
    "\n",
    "Value Iteration:\n",
    "\n",
    "Value Iteration is known for its faster initial convergence compared to Policy Iteration.\n",
    "In each iteration, Value Iteration updates the value function for all states simultaneously, considering the maximum expected value over all possible actions. This enables it to quickly propagate value updates throughout the state space.\n",
    "The number of iterations required for Value Iteration to converge depends on the desired level of accuracy and the complexity of the MDP. However, it often converges in fewer iterations compared to Policy Iteration.\n",
    "Policy Iteration:\n",
    "\n",
    "Policy Iteration initially takes longer to converge compared to Value Iteration.\n",
    "Policy Iteration consists of alternating between policy evaluation and policy improvement steps until convergence. The policy evaluation step often requires multiple iterations to accurately estimate the value function for a given policy.\n",
    "However, Policy Iteration can converge in fewer total iterations than Value Iteration when the number of policy evaluation iterations is taken into account. It updates the policy after each evaluation step, potentially finding the optimal policy sooner.\n",
    "In summary, Value Iteration has faster initial convergence, while Policy Iteration may take longer in the beginning due to multiple policy evaluation steps.\n",
    "\n",
    "in totall, Policy Iteration can converge in fewer total iterations when considering both policy evaluation and policy improvement steps.\n",
    "\n",
    "The choice between Value Iteration and Policy Iteration depends on the specific problem and the tradeoff between initial convergence speed and the number of total iterations required for convergence"
   ]
  },
  {
   "cell_type": "markdown",
   "metadata": {
    "id": "hLtPLm-ELpG9"
   },
   "source": [
    "<a name='2'></a>\n",
    "## Part 2: Q-Learning Algorithm"
   ]
  },
  {
   "cell_type": "code",
   "execution_count": 12,
   "metadata": {
    "id": "3cW_rkeDMOE8"
   },
   "outputs": [],
   "source": [
    "\n",
    "REPS = 20\n",
    "STUDENT_NUM = 272\n",
    "\n"
   ]
  },
  {
   "cell_type": "code",
   "execution_count": 13,
   "metadata": {
    "id": "L1c1w7tRMOR_"
   },
   "outputs": [],
   "source": [
    "# environment\n",
    "env = gym.make('Taxi-v3')\n",
    "#env.seed(seed = STUDENT_NUM)\n",
    "Initial_State = env.reset(seed = STUDENT_NUM)"
   ]
  },
  {
   "cell_type": "code",
   "execution_count": 14,
   "metadata": {
    "id": "ou0fWiX_MsZb"
   },
   "outputs": [
    {
     "data": {
      "text/plain": [
       "(2, 0, 3, 1)"
      ]
     },
     "execution_count": 14,
     "metadata": {},
     "output_type": "execute_result"
    }
   ],
   "source": [
    "taxi_row, taxi_col, pass_idx, dest_idx = env.decode(Initial_State[0])\n",
    "taxi_row, taxi_col, pass_idx, dest_idx"
   ]
  },
  {
   "cell_type": "code",
   "execution_count": 15,
   "metadata": {
    "id": "-8tJoWefMOdT"
   },
   "outputs": [
    {
     "name": "stdout",
     "output_type": "stream",
     "text": [
      "you can see the environment in each step by render command :\n"
     ]
    }
   ],
   "source": [
    "# get familiar with the environment\n",
    "print(\"you can see the environment in each step by render command :\")\n",
    "# env.render()\n"
   ]
  },
  {
   "cell_type": "code",
   "execution_count": 16,
   "metadata": {
    "id": "mQCB-ZIfNwJM"
   },
   "outputs": [
    {
     "data": {
      "text/plain": [
       "500"
      ]
     },
     "execution_count": 16,
     "metadata": {},
     "output_type": "execute_result"
    }
   ],
   "source": [
    "# Total no. of states\n",
    "env.observation_space.n"
   ]
  },
  {
   "cell_type": "code",
   "execution_count": 17,
   "metadata": {
    "id": "lmk_EYbKNwYT"
   },
   "outputs": [
    {
     "data": {
      "text/plain": [
       "6"
      ]
     },
     "execution_count": 17,
     "metadata": {},
     "output_type": "execute_result"
    }
   ],
   "source": [
    "# Total no. of actions\n",
    "env.action_space.n"
   ]
  },
  {
   "cell_type": "markdown",
   "metadata": {},
   "source": [
    "<a name='2-1'></a>\n",
    "### Question 7:"
   ]
  },
  {
   "cell_type": "markdown",
   "metadata": {},
   "source": [
    "# q - learning\n",
    "\n",
    "Q-learning is a reinforcement learning algorithm used to find the optimal policy for an agent in an environment. It relies on Q-values, which represent the expected cumulative reward for taking a specific action in a given state. The algorithm iteratively updates these values using the Bellman equation until they converge to the optimal values. During the learning process, the agent balances exploration and exploitation to gather information about the environment and make optimal decisions. Q-learning is widely used in various domains such as robotics and game playing.\n",
    "$${Q(s,a) = (1-\\alpha)Q(s,a) + \\alpha [\\text{sample}] }$$\n",
    "$${ \\text{sample} = R(s,a,s') + \\gamma \\max_{a'} Q(s',a') }$$\n",
    "\n",
    "Q-learning is based on the concept of Q-values. Q-values represent the expected cumulative reward an agent will receive by taking a particular action in a given state. The goal of Q-learning is to iteratively update the Q-values until they converge to the optimal values.\n",
    "\n",
    "Here's a step-by-step explanation of how Q-learning works:\n",
    "\n",
    "Initialization: Initialize the Q-values for all state-action pairs arbitrarily or to some predefined values.\n",
    "\n",
    "Exploration vs. Exploitation: At each time step, the agent selects an action to take based on a tradeoff between exploration and exploitation. Initially, the agent tends to explore more to gather information about the environment.\n",
    "\n",
    "Action selection: The agent selects an action to take based on an exploration strategy, such as epsilon-greedy, where it chooses a random action with probability epsilon, or selects the action with the highest Q-value for the current state with probability (1-epsilon).\n",
    "\n",
    "Action execution and observation: The agent executes the selected action in the environment and observes the next state and the reward received.\n",
    "\n",
    "Q-value update: The agent updates the Q-value for the current state-action pair using the Bellman equation. The Q-value for the current state-action pair is updated as a weighted sum of the immediate reward and the maximum expected future reward from the next state.\n",
    "\n",
    "Repeat steps 3-5 until convergence or a predefined number of iterations.\n",
    "\n",
    "Convergence: The Q-values are updated iteratively until they converge to the optimal values, ensuring that the agent has learned the optimal policy."
   ]
  },
  {
   "cell_type": "markdown",
   "metadata": {
    "id": "oZJAP4nMLpiZ"
   },
   "source": [
    "<a name='2-2'></a>\n",
    "### Question 8:"
   ]
  },
  {
   "cell_type": "code",
   "execution_count": 18,
   "metadata": {},
   "outputs": [],
   "source": [
    "EPISODES = 1000\n",
    "EPSILON = 0.1\n",
    "LEARNING_RATE = 0.1\n",
    "# environment\n",
    "\n",
    "\n",
    "class QLearningAgent():\n",
    "    def __init__(self, env, epsilon, learning_rate, discount_factor, seed):\n",
    "        self.env = env\n",
    "        self.epsilon = epsilon\n",
    "        self.learning_rate = learning_rate\n",
    "        self.olr = learning_rate\n",
    "        self.discount_factor = discount_factor\n",
    "        self.q_table = np.zeros((env.observation_space.n, env.action_space.n))\n",
    "        self.seed = seed\n",
    "\n",
    "    def choose_action(self, state):\n",
    "        if np.random.rand() < self.epsilon:\n",
    "            action = np.random.choice(self.env.action_space.n)\n",
    "        # Otherwise, choose the action with the highest Q-value\n",
    "        else:\n",
    "            print(self)\n",
    "            action = np.argmax(self.q_table[state])\n",
    "        return action\n",
    "\n",
    "    def update_q_table(self, state, action, nextState, reward):\n",
    "        # Calculate the new Q-value using the Q-learning formula\n",
    "        \n",
    "        sample = reward + self.discount_factor * np.max(self.q_table[nextState])\n",
    "        alfa=self.learning_rate\n",
    "        presentState_q =self.q_table[state][action]\n",
    "        q_inTheNextState = (1 - alfa) * presentState_q + alfa * sample\n",
    "        self.q_table[state][action] = q_inTheNextState\n",
    "        \n",
    "       \n",
    "    def decay_epsilon(self, episode):\n",
    "        # Decrease epsilon over episodes\n",
    "        val_eps = (1 / (episode+1))**2\n",
    "        self.epsilon =val_eps\n",
    "\n",
    "        #self.epsilon = max(self.epsilon, 0.01)  # Ensure epsilon doesn't go below 0.01\n",
    "    def decrease_learning_rate(self, episode):\n",
    "        # Decrease learning rate over episodes\n",
    "        temp = max(episode, 0.01) \n",
    "        self.learning_rate = self.learning_rate / (1 + temp * (LEARNING_RATE**2))\n",
    "\n",
    "    def take_action(self, action):\n",
    "        next_state, reward, done, _ = self.env.step(action)\n",
    "        return next_state, reward, done\n",
    "\n",
    "    def get_optimal_policy(self, state):\n",
    "        return np.argmax(self.q_table[state])\n",
    "\n",
    "    def get_q_values(self):\n",
    "        return self.q_table\n",
    "\n",
    "    def reset(self):\n",
    "        # Reset the environment\n",
    "        return self.env.reset(seed=self.seed)"
   ]
  },
  {
   "cell_type": "code",
   "execution_count": null,
   "metadata": {},
   "outputs": [],
   "source": []
  },
  {
   "cell_type": "code",
   "execution_count": 19,
   "metadata": {
    "id": "qgRhXXmwo6MT"
   },
   "outputs": [
    {
     "ename": "IndexError",
     "evalue": "only integers, slices (`:`), ellipsis (`...`), numpy.newaxis (`None`) and integer or boolean arrays are valid indices",
     "output_type": "error",
     "traceback": [
      "\u001b[1;31m---------------------------------------------------------------------------\u001b[0m",
      "\u001b[1;31mIndexError\u001b[0m                                Traceback (most recent call last)",
      "Cell \u001b[1;32mIn[19], line 78\u001b[0m\n\u001b[0;32m     72\u001b[0m     env\u001b[38;5;241m.\u001b[39mreset()\n\u001b[0;32m     73\u001b[0m     env\u001b[38;5;241m.\u001b[39mclose()\n\u001b[1;32m---> 78\u001b[0m implement()\n",
      "Cell \u001b[1;32mIn[19], line 50\u001b[0m, in \u001b[0;36mimplement\u001b[1;34m()\u001b[0m\n\u001b[0;32m     48\u001b[0m \u001b[38;5;66;03m# Run Q-Learning with a constant learning rate\u001b[39;00m\n\u001b[0;32m     49\u001b[0m agent_constant_lr \u001b[38;5;241m=\u001b[39m QLearningAgent(env, epsilon\u001b[38;5;241m=\u001b[39mepsilon, learning_rate\u001b[38;5;241m=\u001b[39mlearning_rate, discount_factor\u001b[38;5;241m=\u001b[39mdiscount_factor, seed\u001b[38;5;241m=\u001b[39mSTUDENT_NUM)\n\u001b[1;32m---> 50\u001b[0m rewards_learning_rate \u001b[38;5;241m=\u001b[39m my_q_run(env, agent_constant_lr, EPISODES, decay_lr\u001b[38;5;241m=\u001b[39m\u001b[38;5;28;01mFalse\u001b[39;00m)\n\u001b[0;32m     52\u001b[0m \u001b[38;5;66;03m# Run Q-Learning with decreasing learning rate\u001b[39;00m\n\u001b[0;32m     53\u001b[0m agent_decreasing_lr \u001b[38;5;241m=\u001b[39m QLearningAgent(env, epsilon\u001b[38;5;241m=\u001b[39mepsilon, learning_rate\u001b[38;5;241m=\u001b[39mlearning_rate, discount_factor\u001b[38;5;241m=\u001b[39mdiscount_factor, seed\u001b[38;5;241m=\u001b[39mSTUDENT_NUM)\n",
      "Cell \u001b[1;32mIn[19], line 7\u001b[0m, in \u001b[0;36mmy_q_run\u001b[1;34m(env, agent, episodes, decay_lr)\u001b[0m\n\u001b[0;32m      5\u001b[0m state \u001b[38;5;241m=\u001b[39m agent\u001b[38;5;241m.\u001b[39mreset() \n\u001b[0;32m      6\u001b[0m \u001b[38;5;28;01mfor\u001b[39;00m i \u001b[38;5;129;01min\u001b[39;00m \u001b[38;5;28mrange\u001b[39m(\u001b[38;5;241m100\u001b[39m):\n\u001b[1;32m----> 7\u001b[0m     action \u001b[38;5;241m=\u001b[39m agent\u001b[38;5;241m.\u001b[39mchoose_action(state)\n\u001b[0;32m      8\u001b[0m     next_state, reward, done \u001b[38;5;241m=\u001b[39m agent\u001b[38;5;241m.\u001b[39mtake_action(action)\n\u001b[0;32m      9\u001b[0m     agent\u001b[38;5;241m.\u001b[39mupdate_q_table(state, action, next_state, reward)\n",
      "Cell \u001b[1;32mIn[18], line 26\u001b[0m, in \u001b[0;36mQLearningAgent.choose_action\u001b[1;34m(self, state)\u001b[0m\n\u001b[0;32m     23\u001b[0m     action \u001b[38;5;241m=\u001b[39m np\u001b[38;5;241m.\u001b[39mrandom\u001b[38;5;241m.\u001b[39mchoice(\u001b[38;5;28mself\u001b[39m\u001b[38;5;241m.\u001b[39menv\u001b[38;5;241m.\u001b[39maction_space\u001b[38;5;241m.\u001b[39mn)\n\u001b[0;32m     24\u001b[0m \u001b[38;5;66;03m# Otherwise, choose the action with the highest Q-value\u001b[39;00m\n\u001b[0;32m     25\u001b[0m \u001b[38;5;28;01melse\u001b[39;00m:\n\u001b[1;32m---> 26\u001b[0m     action \u001b[38;5;241m=\u001b[39m np\u001b[38;5;241m.\u001b[39margmax(\u001b[38;5;28mself\u001b[39m\u001b[38;5;241m.\u001b[39mq_table[state])\n\u001b[0;32m     27\u001b[0m \u001b[38;5;28;01mreturn\u001b[39;00m action\n",
      "\u001b[1;31mIndexError\u001b[0m: only integers, slices (`:`), ellipsis (`...`), numpy.newaxis (`None`) and integer or boolean arrays are valid indices"
     ]
    }
   ],
   "source": [
    "\n",
    "REPS = 20\n",
    "EPISODES = 2000\n",
    "EPSILON = 0.1\n",
    "LEARNING_RATE = 0.1\n",
    "DISCOUNT = 0.9\n",
    "STUDENT_NUM = 272\n",
    "\n",
    "def my_q_run(env, agent, episodes, decay_lr=False):\n",
    "    rewards = []\n",
    "    for episode in range(episodes):\n",
    "        total_reward = 0\n",
    "\n",
    "        for i in range(100):\n",
    "            state = agent.reset() \n",
    "            action = agent.choose_action(state)\n",
    "            next_state, reward, done = agent.take_action(action)\n",
    "            agent.update_q_table(state, action, next_state, reward)\n",
    "\n",
    "            total_reward += reward\n",
    "            if done:\n",
    "                break\n",
    "\n",
    "        rewards.append(total_reward)\n",
    "\n",
    "        if decay_lr:\n",
    "            \n",
    "            agent.decrease_learning_rate(episode)\n",
    "        agent.decay_epsilon(episode)\n",
    "    return rewards\n",
    "\n",
    "\n",
    "def draw_plot(rewards_learning_rate , rewards_decreasing_lr):\n",
    "    episodes = range(EPISODES)\n",
    "\n",
    "    plt.figure(figsize=(14, 8))\n",
    "    plt.title('comparing plot')\n",
    "    plt.plot(episodes, rewards_learning_rate, label='LR= 0.1')\n",
    "    plt.plot(episodes, rewards_decreasing_lr, label='Decreasing LR')\n",
    "    plt.xlabel('Epsde')\n",
    "    plt.ylabel('Rwrd')\n",
    "    #plt.legend([\"const LR\",\"decreasing LR\"])\n",
    "    plt.grid(True)\n",
    "    #plt.xlim([0, 200])\n",
    "    plt.show()\n",
    "\n",
    "\n",
    "def implement():\n",
    "    env = gym.make('Taxi-v3')\n",
    "\n",
    "    epsilon = EPSILON\n",
    "    discount_factor = DISCOUNT\n",
    "    learning_rate = LEARNING_RATE\n",
    "\n",
    "    # Run Q-Learning with a constant learning rate\n",
    "    agent_constant_lr = QLearningAgent(env, epsilon=epsilon, learning_rate=learning_rate, discount_factor=discount_factor, seed=STUDENT_NUM)\n",
    "    rewards_learning_rate = my_q_run(env, agent_constant_lr, EPISODES, decay_lr=False)\n",
    "\n",
    "    # Run Q-Learning with decreasing learning rate\n",
    "    agent_decreasing_lr = QLearningAgent(env, epsilon=epsilon, learning_rate=learning_rate, discount_factor=discount_factor, seed=STUDENT_NUM)\n",
    "    rewards_decreasing_lr = my_q_run(env, agent_decreasing_lr, EPISODES, decay_lr=True)\n",
    "\n",
    "    # Plot the convergence graphs\n",
    "    draw_plot(rewards_learning_rate,rewards_decreasing_lr)\n",
    "\n",
    "    # Compute the number of episodes needed to converge\n",
    "    cnvrg_cnst_learning_rate = len(rewards_learning_rate) - 1\n",
    "    print(f\"learning rate = 0.1 ->> converge at:{cnvrg_cnst_learning_rate} \" )\n",
    "    cnvrg_decreasing_learning_rate = len(rewards_decreasing_lr) - 1   \n",
    "    print(f\"learning rate = decreasing ->> converge at:{cnvrg_decreasing_learning_rate} \" )\n",
    "    \n",
    "\n",
    "\n",
    "\n",
    "implement()"
   ]
  },
  {
   "cell_type": "markdown",
   "metadata": {},
   "source": [
    "\n",
    "The less the learning rate in q-learning, the slower convergence during training.here,we met convergence so there is not much difference between two algorithm.\n",
    "\n",
    "by the way, changing decreasing_LR , may have bad results\n",
    "decreasing epsilon formula:\n",
    "#  $\\epsilon = initial\\;\\epsilon*(1-\\frac{episode}{EPISODES})$\n",
    "\n",
    " epsilon --> changes between 0 and 0.1\n",
    " - It helps us to at higher episodes our agent choose action usualy on optimal policy instead of choose action randomly. \n",
    " - The bigger the episode is, the smaller our epsilon is, the closer this gets to zero.\n"
   ]
  },
  {
   "cell_type": "markdown",
   "metadata": {
    "id": "BVcMKEGDQWdU"
   },
   "source": [
    "<a name='2-3'></a>\n",
    "### Question 10:"
   ]
  },
  {
   "cell_type": "code",
   "execution_count": 209,
   "metadata": {
    "id": "FlHPV0kqQWdU"
   },
   "outputs": [],
   "source": [
    "import pygame\n",
    "import time\n",
    "\n",
    "def visualize_moves(rgb_array, frame_rate):\n",
    "    frame_height, frame_width, _ = rgb_array.shape\n",
    "    pygame.init()\n",
    "    window = pygame.display.set_mode((frame_height, frame_width))\n",
    "    clock = pygame.time.Clock()\n",
    "    \n",
    "    running = True\n",
    "    while running:\n",
    "        for event in pygame.event.get():\n",
    "            if event.type == pygame.QUIT:\n",
    "                running = False\n",
    "                break\n",
    "\n",
    "        frame = pygame.surfarray.make_surface(rgb_array)\n",
    "        frame = pygame.transform.rotate(frame, -90)\n",
    "        frame = pygame.transform.flip(frame, True, False)\n",
    "        window.blit(frame, (0, 0))\n",
    "        pygame.display.flip()\n",
    "        clock.tick(frame_rate)\n",
    "\n",
    "    pygame.quit()\n"
   ]
  },
  {
   "cell_type": "code",
   "execution_count": null,
   "metadata": {},
   "outputs": [],
   "source": []
  }
 ],
 "metadata": {
  "colab": {
   "provenance": [],
   "toc_visible": true
  },
  "kernelspec": {
   "display_name": "Python 3 (ipykernel)",
   "language": "python",
   "name": "python3"
  },
  "language_info": {
   "codemirror_mode": {
    "name": "ipython",
    "version": 3
   },
   "file_extension": ".py",
   "mimetype": "text/x-python",
   "name": "python",
   "nbconvert_exporter": "python",
   "pygments_lexer": "ipython3",
   "version": "3.11.4"
  }
 },
 "nbformat": 4,
 "nbformat_minor": 1
}
